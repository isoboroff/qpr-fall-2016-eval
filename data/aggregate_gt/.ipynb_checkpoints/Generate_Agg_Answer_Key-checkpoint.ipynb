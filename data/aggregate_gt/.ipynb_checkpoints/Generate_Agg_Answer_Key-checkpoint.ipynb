{
 "cells": [
  {
   "cell_type": "code",
   "execution_count": 18,
   "metadata": {
    "collapsed": true
   },
   "outputs": [],
   "source": [
    "import json"
   ]
  },
  {
   "cell_type": "code",
   "execution_count": 19,
   "metadata": {
    "collapsed": true
   },
   "outputs": [],
   "source": [
    "def get_extractions(annotations, gt_ads, feature):\n",
    "    new_extractions = []\n",
    "    # Explicitly cylcing over every entry (inefficient)\n",
    "    for cluster in annotations:\n",
    "        for entry in cluster:\n",
    "            if entry['obj_parent'] in gt_ads:\n",
    "                if entry['relevant'] == 'yes':\n",
    "                    # Retaining nested structure\n",
    "                    for ad_feature in entry['features'].keys():\n",
    "                        for annotaion in entry['features'][ad_feature]:\n",
    "                            if annotaion['label'] == feature:\n",
    "                                # Some values are images\n",
    "                                if 'text' in annotaion.keys():\n",
    "                                    new_extractions.append(annotaion['text'])\n",
    "    return new_extractions"
   ]
  },
  {
   "cell_type": "markdown",
   "metadata": {},
   "source": [
    "### Set Paths"
   ]
  },
  {
   "cell_type": "code",
   "execution_count": 20,
   "metadata": {
    "collapsed": false
   },
   "outputs": [],
   "source": [
    "annotation_file = '../cluster_annotations/cluster_annotations.json'\n",
    "agg_gt_file = '../posted_GT/gt_answer_key/agg_quest2ads.json'\n",
    "agg_quest_file = '../../questions/post_aggregate.json'\n",
    "dict_path = 'saved_dictionaries/'"
   ]
  },
  {
   "cell_type": "code",
   "execution_count": 22,
   "metadata": {
    "collapsed": false
   },
   "outputs": [],
   "source": [
    "f = open(annotation_file, 'r')\n",
    "annotations = eval(f.read())\n",
    "f.close()\n",
    "\n",
    "agg_quest = {}\n",
    "f = open(agg_quest_file, 'r')\n",
    "for line in f:\n",
    "    obj = json.loads(line)\n",
    "    agg_quest[obj['id']] = obj\n",
    "f.close()\n",
    "\n",
    "f = open(agg_gt_file, 'r')\n",
    "agg_gt = eval(f.read())\n",
    "f.close()\n",
    "\n",
    "norm = {}\n",
    "for feature in ['price', 'weight', 'height']:\n",
    "    dict_file = dict_path + feature + '_values_converted.json'\n",
    "    f = open(dict_file, 'r')\n",
    "    norm[feature] = eval(f.read())\n",
    "    f.close()"
   ]
  },
  {
   "cell_type": "markdown",
   "metadata": {},
   "source": [
    "### Take all extractions from GT"
   ]
  },
  {
   "cell_type": "code",
   "execution_count": null,
   "metadata": {
    "collapsed": false
   },
   "outputs": [],
   "source": [
    "agg_answer_key = {}\n",
    "\n",
    "for quest in agg_quest.keys():\n",
    "    agg_answer_key[quest] = agg_quest[quest]\n",
    "    # Find the feature needed\n",
    "    feature = (agg_quest[quest]['SPARQL'][0].split('\\n')[1]\n",
    "               .split('?')[1].split(' ')[0].strip(')'))\n",
    "    agg_answer_key[quest]['feature'] = feature\n",
    "    \n",
    "    # Find the relevant GT ads\n",
    "    ads = agg_gt[quest]\n",
    "    feature_extractions = get_extractions(annotations, ads,\n",
    "                                     feature.capitalize())\n",
    "    agg_answer_key[quest]['extractions'] = feature_extractions"
   ]
  },
  {
   "cell_type": "markdown",
   "metadata": {},
   "source": [
    "### Write dictionary file for all non-zero length values"
   ]
  },
  {
   "cell_type": "code",
   "execution_count": null,
   "metadata": {
    "collapsed": false
   },
   "outputs": [],
   "source": [
    "for feature in uniq_extractions.keys():\n",
    "    print_dict = {}\n",
    "    for value in uniq_extractions[feature]:\n",
    "        print_dict[value] = \"\"\n",
    "    # Save to Pretty Print File\n",
    "    json_file = feature + '_values.json'\n",
    "    with open(json_file, 'w') as outfile:\n",
    "        json.dump(print_dict, outfile, indent=2)"
   ]
  },
  {
   "cell_type": "markdown",
   "metadata": {},
   "source": [
    "## DEBUG"
   ]
  },
  {
   "cell_type": "code",
   "execution_count": 11,
   "metadata": {
    "collapsed": false
   },
   "outputs": [
    {
     "data": {
      "text/plain": [
       "[u'question', u'type', u'id', 'feature', u'SPARQL']"
      ]
     },
     "execution_count": 11,
     "metadata": {},
     "output_type": "execute_result"
    }
   ],
   "source": [
    "agg_answer_key['1'].keys()"
   ]
  },
  {
   "cell_type": "code",
   "execution_count": 12,
   "metadata": {
    "collapsed": false
   },
   "outputs": [
    {
     "data": {
      "text/plain": [
       "u'MODE'"
      ]
     },
     "execution_count": 12,
     "metadata": {},
     "output_type": "execute_result"
    }
   ],
   "source": [
    "agg_answer_key['1']['type']"
   ]
  },
  {
   "cell_type": "code",
   "execution_count": 26,
   "metadata": {
    "collapsed": false
   },
   "outputs": [
    {
     "data": {
      "text/plain": [
       "int"
      ]
     },
     "execution_count": 26,
     "metadata": {},
     "output_type": "execute_result"
    }
   ],
   "source": [
    "type(norm['price'][' $1,000 '][0])"
   ]
  },
  {
   "cell_type": "code",
   "execution_count": null,
   "metadata": {
    "collapsed": true
   },
   "outputs": [],
   "source": []
  }
 ],
 "metadata": {
  "kernelspec": {
   "display_name": "Python 2",
   "language": "python",
   "name": "python2"
  },
  "language_info": {
   "codemirror_mode": {
    "name": "ipython",
    "version": 2
   },
   "file_extension": ".py",
   "mimetype": "text/x-python",
   "name": "python",
   "nbconvert_exporter": "python",
   "pygments_lexer": "ipython2",
   "version": "2.7.11"
  }
 },
 "nbformat": 4,
 "nbformat_minor": 0
}
